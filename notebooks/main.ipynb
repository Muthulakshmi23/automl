{
 "cells": [
  {
   "cell_type": "code",
   "execution_count": null,
   "metadata": {},
   "outputs": [],
   "source": [
    "#Step 1: Install and Set Up AutoPrognosis-M\n",
    "!git clone https://github.com/yourusername/AutoPrognosis_M_Project.git\n",
    "!pip install -r requirements.txt\n"
   ]
  },
  {
   "cell_type": "code",
   "execution_count": null,
   "metadata": {},
   "outputs": [],
   "source": [
    "#Step 2: Load the PAD-UFES-20 Dataset from Kaggle"
   ]
  },
  {
   "cell_type": "code",
   "execution_count": null,
   "metadata": {},
   "outputs": [],
   "source": [
    "from google.colab import files\n",
    "files.upload()\n",
    "!mkdir -p ~/.kaggle\n",
    "!mv kaggle.json ~/.kaggle/\n",
    "!chmod 600 ~/.kaggle/kaggle.json\n",
    "!kaggle datasets download -d mahdavi1202/skin-cancer\n",
    "!mkdir -p /content/AutoPrognosis-Multimodal/data\n",
    "!unzip skin-cancer.zip -d /content/AutoPrognosis-Multimodal/data\n"
   ]
  },
  {
   "cell_type": "code",
   "execution_count": null,
   "metadata": {},
   "outputs": [],
   "source": [
    "from src.preprocess import load_data, augment_images\n",
    "from src.feature_extraction import extract_image_features, extract_tabular_features\n",
    "from src.fusion import build_pipeline\n",
    "from src.model import train_pipeline, predict\n",
    "from src.explainability import explain_tabular, explain_image\n",
    "from src.train import evaluate\n",
    "\n",
    "# Load data\n",
    "images, tabular_features, labels_encoded = load_data('./data/images', './data/metadata.csv')\n",
    "\n",
    "# Extract features\n",
    "image_features = extract_image_features(images)\n",
    "tabular_features = extract_tabular_features(tabular_features, labels_encoded)\n",
    "\n",
    "# Build pipeline\n",
    "pipeline = build_pipeline(image_features, tabular_features, labels_encoded)\n",
    "\n",
    "# Train and predict\n",
    "train_pipeline(pipeline)\n",
    "predictions, probs = predict(pipeline)\n",
    "\n",
    "# Evaluate\n",
    "y_true = labels_encoded.argmax(axis=1)\n",
    "y_pred = predictions.argmax(axis=1)\n",
    "evaluate(y_true, y_pred, probs)\n",
    "\n",
    "# Explainability\n",
    "explain_tabular(pipeline.tabular_estimator_, tabular_features)\n",
    "explain_image(pipeline.image_estimator_, images[0])\n"
   ]
  },
  {
   "cell_type": "code",
   "execution_count": null,
   "metadata": {},
   "outputs": [],
   "source": []
  }
 ],
 "metadata": {
  "language_info": {
   "name": "python"
  }
 },
 "nbformat": 4,
 "nbformat_minor": 2
}
